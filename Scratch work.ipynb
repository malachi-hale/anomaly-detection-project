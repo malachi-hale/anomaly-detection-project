{
 "cells": [
  {
   "cell_type": "code",
   "execution_count": 1,
   "id": "f3e150f2",
   "metadata": {},
   "outputs": [],
   "source": [
    "#Pandas\n",
    "import pandas as pd\n",
    "\n",
    "#Numpy\n",
    "import numpy as np \n",
    "\n",
    "#Visualization imports\n",
    "import matplotlib\n",
    "import matplotlib.pyplot as plt\n",
    "import matplotlib.dates as DateFormatter\n",
    "import datetime\n",
    "import seaborn as sns\n",
    "\n",
    "#Import acquire and prepare\n",
    "from acquire import get_cohort_data\n",
    "from prepare import prepare_data\n",
    "\n",
    "#Disable warnings \n",
    "import warnings\n",
    "warnings.filterwarnings('ignore')\n",
    "\n",
    "#Stats\n",
    "from scipy import stats"
   ]
  },
  {
   "cell_type": "code",
   "execution_count": 6,
   "id": "f0406db3",
   "metadata": {},
   "outputs": [],
   "source": [
    "df = get_cohort_data()"
   ]
  },
  {
   "cell_type": "code",
   "execution_count": 7,
   "id": "7f0487c2",
   "metadata": {},
   "outputs": [],
   "source": [
    "df = prepare_data(df)"
   ]
  },
  {
   "cell_type": "code",
   "execution_count": 10,
   "id": "bb279c9e",
   "metadata": {},
   "outputs": [
    {
     "data": {
      "text/plain": [
       "['date',\n",
       " 'time',\n",
       " 'path',\n",
       " 'user_id',\n",
       " 'cohort_id',\n",
       " 'ip',\n",
       " 'id',\n",
       " 'name',\n",
       " 'slack',\n",
       " 'start_date',\n",
       " 'end_date',\n",
       " 'created_at',\n",
       " 'updated_at',\n",
       " 'program_id']"
      ]
     },
     "execution_count": 10,
     "metadata": {},
     "output_type": "execute_result"
    }
   ],
   "source": [
    "df.columns.to_list()\n"
   ]
  },
  {
   "cell_type": "code",
   "execution_count": 15,
   "id": "f0cd85f5",
   "metadata": {},
   "outputs": [],
   "source": [
    "dictionary = {\n",
    "    'Feature' : [\n",
    "                'Time',\n",
    "                'date',\n",
    "                'time',\n",
    "                'user_id',\n",
    "                'cohort_id',\n",
    "                'ip',\n",
    "                'id',\n",
    "                'name',\n",
    "                'slack',\n",
    "                'start_date',\n",
    "                'end_date', \n",
    "                'created_at', \n",
    "                'updated_at',\n",
    "                'program_id',\n",
    "                ],\n",
    "    'Dataype' : [\n",
    "               'datetime',\n",
    "                df.dtypes['date'],\n",
    "                df.dtypes['time'],\n",
    "                df.dtypes['user_id'],\n",
    "                df.dtypes['cohort_id'],\n",
    "                df.dtypes['ip'],\n",
    "                df.dtypes['id'],\n",
    "                df.dtypes['name'],\n",
    "                df.dtypes['slack'],\n",
    "                df.dtypes['start_date'],\n",
    "                df.dtypes['end_date'], \n",
    "                df.dtypes['created_at'], \n",
    "                df.dtypes['updated_at'],\n",
    "                df.dtypes['program_id'],\n",
    "                ],\n",
    "    'Definition' : [\n",
    "                'A combination of the calendar date and the twenty-four hour time the site was accessed.',\n",
    "                'The calendar date the site was accessed.',\n",
    "                'The time of day the site was accessed.',\n",
    "                'Number that indicates the user accesssing the site.',\n",
    "                'Number the identifies each cohort.',\n",
    "                'The IP address accessing the site.',\n",
    "                'The ID number identifying each cohort.',\n",
    "                'The name of each cohort.',\n",
    "                'The Slack channel of the cohort.',\n",
    "                'The date the cohort began classes.',\n",
    "                'The date the chort ended classes.', \n",
    "               'The date the path accessed was created.', \n",
    "                'The date the path was most recently updated.',\n",
    "                'The ID indicating the program. 1 is PHP Full Stack Development. 2 is Java Full Stack Development. 3 is Data Science. 4 is Front Ned Web Development.'\n",
    "                    ],\n",
    "}"
   ]
  },
  {
   "cell_type": "code",
   "execution_count": 21,
   "id": "ab86d31c",
   "metadata": {},
   "outputs": [],
   "source": [
    "dictionary_df = pd.DataFrame(dictionary)\n",
    "dictionary_df = dictionary_df.set_index(\"Feature\")"
   ]
  },
  {
   "cell_type": "code",
   "execution_count": null,
   "id": "48b9a87d",
   "metadata": {},
   "outputs": [],
   "source": []
  },
  {
   "cell_type": "code",
   "execution_count": 22,
   "id": "5d6b0074",
   "metadata": {
    "scrolled": false
   },
   "outputs": [
    {
     "name": "stdout",
     "output_type": "stream",
     "text": [
      "| Feature    | Dataype        | Definition                                                                                                                                           |\n",
      "|:-----------|:---------------|:-----------------------------------------------------------------------------------------------------------------------------------------------------|\n",
      "| Time       | datetime       | A combination of the calendar date and the twenty-four hour time the site was accessed.                                                              |\n",
      "| date       | object         | The calendar date the site was accessed.                                                                                                             |\n",
      "| time       | object         | The time of day the site was accessed.                                                                                                               |\n",
      "| user_id    | int64          | Number that indicates the user accesssing the site.                                                                                                  |\n",
      "| cohort_id  | float64        | Number the identifies each cohort.                                                                                                                   |\n",
      "| ip         | object         | The IP address accessing the site.                                                                                                                   |\n",
      "| id         | float64        | The ID number identifying each cohort.                                                                                                               |\n",
      "| name       | object         | The name of each cohort.                                                                                                                             |\n",
      "| slack      | object         | The Slack channel of the cohort.                                                                                                                     |\n",
      "| start_date | datetime64[ns] | The date the cohort began classes.                                                                                                                   |\n",
      "| end_date   | datetime64[ns] | The date the chort ended classes.                                                                                                                    |\n",
      "| created_at | datetime64[ns] | The date the path accessed was created.                                                                                                              |\n",
      "| updated_at | datetime64[ns] | The date the path was most recently updated.                                                                                                         |\n",
      "| program_id | float64        | The ID indicating the program. 1 is PHP Full Stack Development. 2 is Java Full Stack Development. 3 is Data Science. 4 is Front Ned Web Development. |\n"
     ]
    }
   ],
   "source": [
    "print(dictionary_df.to_markdown())"
   ]
  },
  {
   "cell_type": "code",
   "execution_count": null,
   "id": "402c92cd",
   "metadata": {},
   "outputs": [],
   "source": []
  },
  {
   "cell_type": "code",
   "execution_count": null,
   "id": "ca24d0c6",
   "metadata": {},
   "outputs": [],
   "source": []
  },
  {
   "cell_type": "code",
   "execution_count": null,
   "id": "5efa531c",
   "metadata": {},
   "outputs": [],
   "source": []
  },
  {
   "cell_type": "code",
   "execution_count": null,
   "id": "3c81f337",
   "metadata": {},
   "outputs": [],
   "source": [
    "1.0 == PHP Full Stack Web Development,\n",
    "2.0 == Java Full Stack Web Development,\n",
    "3.0 == Data Science, and\n",
    "4.0 == Front End Web Development."
   ]
  },
  {
   "cell_type": "code",
   "execution_count": null,
   "id": "7ff700ce",
   "metadata": {},
   "outputs": [],
   "source": []
  }
 ],
 "metadata": {
  "kernelspec": {
   "display_name": "Python 3",
   "language": "python",
   "name": "python3"
  },
  "language_info": {
   "codemirror_mode": {
    "name": "ipython",
    "version": 3
   },
   "file_extension": ".py",
   "mimetype": "text/x-python",
   "name": "python",
   "nbconvert_exporter": "python",
   "pygments_lexer": "ipython3",
   "version": "3.8.8"
  }
 },
 "nbformat": 4,
 "nbformat_minor": 5
}
